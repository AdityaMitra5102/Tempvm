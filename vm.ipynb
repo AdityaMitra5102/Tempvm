{
  "nbformat": 4,
  "nbformat_minor": 0,
  "metadata": {
    "colab": {
      "provenance": [],
      "authorship_tag": "ABX9TyPoa95ojSezgaQWdZX9yn47",
      "include_colab_link": true
    },
    "kernelspec": {
      "name": "python3",
      "display_name": "Python 3"
    },
    "language_info": {
      "name": "python"
    }
  },
  "cells": [
    {
      "cell_type": "markdown",
      "metadata": {
        "id": "view-in-github",
        "colab_type": "text"
      },
      "source": [
        "<a href=\"https://colab.research.google.com/github/AdityaMitra5102/Tempvm/blob/main/vm.ipynb\" target=\"_parent\"><img src=\"https://colab.research.google.com/assets/colab-badge.svg\" alt=\"Open In Colab\"/></a>"
      ]
    },
    {
      "cell_type": "markdown",
      "source": [
        "# Temporary disposable VM\n",
        "\n",
        "Run the cell. Click the copy button and paste it in a VNC Viewer.\n",
        "\n",
        "Password: password"
      ],
      "metadata": {
        "id": "_tnEtOxAQQ_K"
      }
    },
    {
      "cell_type": "code",
      "source": [
        "!sudo add-apt-repository --yes ppa:saiarcot895/chromium-beta\n",
        "!sudo apt-get install chromium-browser\n",
        "!echo chromium-browser --no-sandbox >> /root/.bashrc\n",
        "!sudo apt-get install xterm\n",
        "!wget https://bin.equinox.io/c/bNyj1mQVY4c/ngrok-v3-stable-linux-amd64.tgz\n",
        "!tar -xvzf ngrok-v3-stable-linux-amd64.tgz\n",
        "!pip3 install pyngrok\n",
        "! ./ngrok config add-authtoken 5Vf1QAXNLHLdFix4QnVvn_4iA3SeBnfbRdGxYqUcf5c\n",
        "!export PATH=$PATH:.\n",
        "!sudo apt-get install tightvncserver\n",
        "!export USER=root\n",
        "!printf \"password\\npassword\\nn\\n\" | vncpasswd\n",
        "!sudo vncserver\n",
        "!export display=:1\n",
        "from pyngrok import ngrok, conf\n",
        "from IPython.display import HTML\n",
        "connection_string = ngrok.connect(\"5901\", \"tcp\").public_url\n",
        "url, port = connection_string.strip(\"tcp://\").split(\":\")\n",
        "output=f\"{url}:{port}\"\n",
        "print(output)\n",
        "text = output\n",
        "HTML(f\"<button onclick=navigator.clipboard.writeText('{text}')>Copy</button>\")"
      ],
      "metadata": {
        "id": "xJqJ_JZpXv82"
      },
      "execution_count": null,
      "outputs": []
    }
  ]
}